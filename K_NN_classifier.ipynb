{
  "nbformat": 4,
  "nbformat_minor": 0,
  "metadata": {
    "kernelspec": {
      "display_name": "Python 3",
      "language": "python",
      "name": "python3"
    },
    "language_info": {
      "codemirror_mode": {
        "name": "ipython",
        "version": 3
      },
      "file_extension": ".py",
      "mimetype": "text/x-python",
      "name": "python",
      "nbconvert_exporter": "python",
      "pygments_lexer": "ipython3",
      "version": "3.8.3"
    },
    "colab": {
      "name": "3. K-NN classifier",
      "provenance": [],
      "collapsed_sections": [],
      "toc_visible": true
    }
  },
  "cells": [
    {
      "cell_type": "markdown",
      "metadata": {
        "id": "ck9JARLg2Bzw"
      },
      "source": [
        "# 1. K-NN classifier\n"
      ]
    },
    {
      "cell_type": "code",
      "metadata": {
        "id": "C3NIVIAg2Bz1"
      },
      "source": [
        "import pandas as pd\n",
        "from sklearn.feature_selection import SelectKBest, chi2, mutual_info_classif, f_classif\n",
        "from sklearn.model_selection import train_test_split\n",
        "from sklearn.neighbors import KNeighborsClassifier\n",
        "from sklearn import metrics\n",
        "from sklearn import preprocessing\n",
        "import matplotlib.pyplot as plt"
      ],
      "execution_count": null,
      "outputs": []
    },
    {
      "cell_type": "markdown",
      "metadata": {
        "id": "WDBTVCB32Bz_"
      },
      "source": [
        "# 2. Data loading and analysis of the attributes\n",
        " \n",
        "#### 2.1. Dataset load."
      ]
    },
    {
      "cell_type": "code",
      "metadata": {
        "id": "xDarD3v92B0B"
      },
      "source": [
        "def read_data(path):\n",
        "    df = pd.read_csv(path, sep=\",\")\n",
        "    return df.drop([\"quality\"],axis=1),df[\"quality\"].tolist()\n",
        "\n",
        "data_X, data_Y = read_data(\"winequality-red.csv\")"
      ],
      "execution_count": null,
      "outputs": []
    },
    {
      "cell_type": "code",
      "metadata": {
        "id": "iAFO5b4v2B0J",
        "colab": {
          "base_uri": "https://localhost:8080/",
          "height": 206
        },
        "outputId": "90af6188-d8b2-49ef-c97c-dd15df128109"
      },
      "source": [
        "data_X.head()"
      ],
      "execution_count": null,
      "outputs": [
        {
          "output_type": "execute_result",
          "data": {
            "text/html": [
              "<div>\n",
              "<style scoped>\n",
              "    .dataframe tbody tr th:only-of-type {\n",
              "        vertical-align: middle;\n",
              "    }\n",
              "\n",
              "    .dataframe tbody tr th {\n",
              "        vertical-align: top;\n",
              "    }\n",
              "\n",
              "    .dataframe thead th {\n",
              "        text-align: right;\n",
              "    }\n",
              "</style>\n",
              "<table border=\"1\" class=\"dataframe\">\n",
              "  <thead>\n",
              "    <tr style=\"text-align: right;\">\n",
              "      <th></th>\n",
              "      <th>fixed acidity</th>\n",
              "      <th>volatile acidity</th>\n",
              "      <th>citric acid</th>\n",
              "      <th>residual sugar</th>\n",
              "      <th>chlorides</th>\n",
              "      <th>free sulfur dioxide</th>\n",
              "      <th>total sulfur dioxide</th>\n",
              "      <th>density</th>\n",
              "      <th>pH</th>\n",
              "      <th>sulphates</th>\n",
              "      <th>alcohol</th>\n",
              "    </tr>\n",
              "  </thead>\n",
              "  <tbody>\n",
              "    <tr>\n",
              "      <th>0</th>\n",
              "      <td>7.4</td>\n",
              "      <td>0.70</td>\n",
              "      <td>0.00</td>\n",
              "      <td>1.9</td>\n",
              "      <td>0.076</td>\n",
              "      <td>11.0</td>\n",
              "      <td>34.0</td>\n",
              "      <td>0.9978</td>\n",
              "      <td>3.51</td>\n",
              "      <td>0.56</td>\n",
              "      <td>9.4</td>\n",
              "    </tr>\n",
              "    <tr>\n",
              "      <th>1</th>\n",
              "      <td>7.8</td>\n",
              "      <td>0.88</td>\n",
              "      <td>0.00</td>\n",
              "      <td>2.6</td>\n",
              "      <td>0.098</td>\n",
              "      <td>25.0</td>\n",
              "      <td>67.0</td>\n",
              "      <td>0.9968</td>\n",
              "      <td>3.20</td>\n",
              "      <td>0.68</td>\n",
              "      <td>9.8</td>\n",
              "    </tr>\n",
              "    <tr>\n",
              "      <th>2</th>\n",
              "      <td>7.8</td>\n",
              "      <td>0.76</td>\n",
              "      <td>0.04</td>\n",
              "      <td>2.3</td>\n",
              "      <td>0.092</td>\n",
              "      <td>15.0</td>\n",
              "      <td>54.0</td>\n",
              "      <td>0.9970</td>\n",
              "      <td>3.26</td>\n",
              "      <td>0.65</td>\n",
              "      <td>9.8</td>\n",
              "    </tr>\n",
              "    <tr>\n",
              "      <th>3</th>\n",
              "      <td>11.2</td>\n",
              "      <td>0.28</td>\n",
              "      <td>0.56</td>\n",
              "      <td>1.9</td>\n",
              "      <td>0.075</td>\n",
              "      <td>17.0</td>\n",
              "      <td>60.0</td>\n",
              "      <td>0.9980</td>\n",
              "      <td>3.16</td>\n",
              "      <td>0.58</td>\n",
              "      <td>9.8</td>\n",
              "    </tr>\n",
              "    <tr>\n",
              "      <th>4</th>\n",
              "      <td>7.4</td>\n",
              "      <td>0.70</td>\n",
              "      <td>0.00</td>\n",
              "      <td>1.9</td>\n",
              "      <td>0.076</td>\n",
              "      <td>11.0</td>\n",
              "      <td>34.0</td>\n",
              "      <td>0.9978</td>\n",
              "      <td>3.51</td>\n",
              "      <td>0.56</td>\n",
              "      <td>9.4</td>\n",
              "    </tr>\n",
              "  </tbody>\n",
              "</table>\n",
              "</div>"
            ],
            "text/plain": [
              "   fixed acidity  volatile acidity  citric acid  ...    pH  sulphates  alcohol\n",
              "0            7.4              0.70         0.00  ...  3.51       0.56      9.4\n",
              "1            7.8              0.88         0.00  ...  3.20       0.68      9.8\n",
              "2            7.8              0.76         0.04  ...  3.26       0.65      9.8\n",
              "3           11.2              0.28         0.56  ...  3.16       0.58      9.8\n",
              "4            7.4              0.70         0.00  ...  3.51       0.56      9.4\n",
              "\n",
              "[5 rows x 11 columns]"
            ]
          },
          "metadata": {
            "tags": []
          },
          "execution_count": 4
        }
      ]
    },
    {
      "cell_type": "markdown",
      "metadata": {
        "id": "cAIL9EDD2B0V"
      },
      "source": [
        "#### 1.2. Analyse. \n",
        "\n",
        "Histogram of the assigned class.\n"
      ]
    },
    {
      "cell_type": "code",
      "metadata": {
        "id": "sK_DruEj2B0V",
        "colab": {
          "base_uri": "https://localhost:8080/",
          "height": 265
        },
        "outputId": "b98f67a0-1e00-427c-d904-e282cbb1c64e"
      },
      "source": [
        "plt.hist(data_Y, bins=3)\n",
        "plt.show()"
      ],
      "execution_count": null,
      "outputs": [
        {
          "output_type": "display_data",
          "data": {
            "image/png": "[encoded data removed]",
            "text/plain": [
              "<Figure size 432x288 with 1 Axes>"
            ]
          },
          "metadata": {
            "tags": [],
            "needs_background": "light"
          }
        }
      ]
    },
    {
      "cell_type": "markdown",
      "metadata": {
        "id": "dNAnscNv2B0c"
      },
      "source": [
        "Plot the histograms of the first 5 attributes. "
      ]
    },
    {
      "cell_type": "code",
      "metadata": {
        "id": "-k3ix0en2B0c",
        "colab": {
          "base_uri": "https://localhost:8080/",
          "height": 1000
        },
        "outputId": "fc9a9fdd-b3bf-43e8-b59b-5d40fed84c2c"
      },
      "source": [
        "for col in data_X.columns[:5]:\n",
        "  print(col)\n",
        "  plt.hist(data_X[col])\n",
        "  plt.show()"
      ],
      "execution_count": null,
      "outputs": [
        {
          "output_type": "stream",
          "text": [
            "fixed acidity\n"
          ],
          "name": "stdout"
        },
        {
          "output_type": "display_data",
          "data": {
            "image/png": "[encoded data removed]",
            "text/plain": [
              "<Figure size 432x288 with 1 Axes>"
            ]
          },
          "metadata": {
            "tags": [],
            "needs_background": "light"
          }
        },
        {
          "output_type": "stream",
          "text": [
            "volatile acidity\n"
          ],
          "name": "stdout"
        },
        {
          "output_type": "display_data",
          "data": {
            "image/png": "[encoded data removed]",
            "text/plain": [
              "<Figure size 432x288 with 1 Axes>"
            ]
          },
          "metadata": {
            "tags": [],
            "needs_background": "light"
          }
        },
        {
          "output_type": "stream",
          "text": [
            "citric acid\n"
          ],
          "name": "stdout"
        },
        {
          "output_type": "display_data",
          "data": {
            "image/png": "[encoded data removed]",
            "text/plain": [
              "<Figure size 432x288 with 1 Axes>"
            ]
          },
          "metadata": {
            "tags": [],
            "needs_background": "light"
          }
        },
        {
          "output_type": "stream",
          "text": [
            "residual sugar\n"
          ],
          "name": "stdout"
        },
        {
          "output_type": "display_data",
          "data": {
            "image/png": "[encoded data removed]",
            "text/plain": [
              "<Figure size 432x288 with 1 Axes>"
            ]
          },
          "metadata": {
            "tags": [],
            "needs_background": "light"
          }
        },
        {
          "output_type": "stream",
          "text": [
            "chlorides\n"
          ],
          "name": "stdout"
        },
        {
          "output_type": "display_data",
          "data": {
            "image/png": "[encoded data removed]",
            "text/plain": [
              "<Figure size 432x288 with 1 Axes>"
            ]
          },
          "metadata": {
            "tags": [],
            "needs_background": "light"
          }
        }
      ]
    },
    {
      "cell_type": "markdown",
      "metadata": {
        "id": "SdIDgGEC2B0h"
      },
      "source": [
        "# 3. Train and test set selection"
      ]
    },
    {
      "cell_type": "code",
      "metadata": {
        "id": "zBOUxU9M2B0i",
        "colab": {
          "base_uri": "https://localhost:8080/"
        },
        "outputId": "ca249064-2f15-4980-98ed-a6140abee610"
      },
      "source": [
        "def split_data(data_X, data_Y, test_percent = 15, random_state=5):\n",
        "    X_train, X_test, y_train, y_test = train_test_split(data_X,\n",
        "                                                        data_Y,\n",
        "                                                        test_size=test_percent/100,\n",
        "                                                        random_state=random_state)\n",
        "    train_X = pd.DataFrame(X_train)\n",
        "    test_X = pd.DataFrame(X_test)\n",
        "\n",
        "    return (train_X, y_train, test_X, y_test)\n",
        "    \n",
        "(train_X, train_Y, test_X, test_Y) = split_data(data_X, data_Y)\n",
        "print(\"rows in train set: \", train_X.shape[0])\n",
        "print(\"rows in test set:\", test_X.shape[0])"
      ],
      "execution_count": null,
      "outputs": [
        {
          "output_type": "stream",
          "text": [
            "rows in train set:  1359\n",
            "rows in test set: 240\n"
          ],
          "name": "stdout"
        }
      ]
    },
    {
      "cell_type": "markdown",
      "metadata": {
        "id": "09QAB5Hb2B0m"
      },
      "source": [
        "# 4. Data standarization/normalization\n",
        "#### 4.1. Cassification accuracy with k-nn algorithm."
      ]
    },
    {
      "cell_type": "code",
      "metadata": {
        "id": "4OvyWnGs2B0o",
        "colab": {
          "base_uri": "https://localhost:8080/"
        },
        "outputId": "118e6cb0-e88b-4578-f5a4-bec28dc66e17"
      },
      "source": [
        "def get_classification_accuracy(train_data_X, train_data_Y, test_data_X, test_data_Y, k = 3):\n",
        "    neigh = KNeighborsClassifier(n_neighbors = k)\n",
        "    neigh.fit(train_data_X, train_data_Y)\n",
        "    prediction = neigh.predict(test_data_X)\n",
        "    accuracy = metrics.accuracy_score(test_data_Y, prediction)\n",
        "\n",
        "    return accuracy\n",
        "\n",
        "get_classification_accuracy(train_X, train_Y, test_X, test_Y)"
      ],
      "execution_count": null,
      "outputs": [
        {
          "output_type": "execute_result",
          "data": {
            "text/plain": [
              "0.6375"
            ]
          },
          "metadata": {
            "tags": []
          },
          "execution_count": 38
        }
      ]
    },
    {
      "cell_type": "markdown",
      "metadata": {
        "id": "YNzv2anQ2B0s"
      },
      "source": [
        "#### 4.2.Standarization and repeated classification."
      ]
    },
    {
      "cell_type": "code",
      "metadata": {
        "id": "oKYqtFBK2B0t",
        "colab": {
          "base_uri": "https://localhost:8080/"
        },
        "outputId": "c8cf46c2-a3ee-4587-902b-a2d8403ab107"
      },
      "source": [
        "def standarize_train_and_test(train_X, test_X, standarizer):\n",
        "    norm_train = standarizer.fit_transform(train_X)\n",
        "    norm_test = standarizer.transform(test_X)\n",
        "    return pd.DataFrame(norm_train), pd.DataFrame(norm_test)\n",
        "\n",
        "norm_train_X, norm_test_X = standarize_train_and_test(train_X, test_X, preprocessing.StandardScaler())\n",
        "get_classification_accuracy(norm_train_X, train_Y, norm_test_X, test_Y)"
      ],
      "execution_count": null,
      "outputs": [
        {
          "output_type": "execute_result",
          "data": {
            "text/plain": [
              "0.6416666666666667"
            ]
          },
          "metadata": {
            "tags": []
          },
          "execution_count": 42
        }
      ]
    },
    {
      "cell_type": "markdown",
      "metadata": {
        "id": "YPlqAwP42B0x"
      },
      "source": [
        "# 5. K value"
      ]
    },
    {
      "cell_type": "code",
      "metadata": {
        "id": "D2vUAsdf2B0y",
        "colab": {
          "base_uri": "https://localhost:8080/",
          "height": 265
        },
        "outputId": "a843e02a-beb8-4139-afe4-a9c31934bdce"
      },
      "source": [
        "from sklearn.model_selection import cross_validate\n",
        "\n",
        "y = []\n",
        "k_range = range(1,21)\n",
        "cv_folds = 5\n",
        "for k in k_range:\n",
        "  cv_results = cross_validate(KNeighborsClassifier(n_neighbors = k), norm_train_X, train_Y, cv = cv_folds, scoring = 'accuracy')\n",
        "  avg_accuracy = sum(cv_results['test_score'])/cv_folds\n",
        "  y.append(avg_accuracy)\n",
        "\n",
        "plt.plot(k_range, y, marker='o', linestyle='dashed')\n",
        "plt.xticks(k_range)\n",
        "plt.show()"
      ],
      "execution_count": null,
      "outputs": [
        {
          "output_type": "display_data",
          "data": {
            "image/png": "[encoded data removed]",
            "text/plain": [
              "<Figure size 432x288 with 1 Axes>"
            ]
          },
          "metadata": {
            "tags": [],
            "needs_background": "light"
          }
        }
      ]
    },
    {
      "cell_type": "markdown",
      "metadata": {
        "id": "U-Uk_cEc2B02"
      },
      "source": [
        "# 6. Testing classifier\n",
        "Train the k-NN classifier again and test it using the obtained best k value on a test set to check the final classification accuracy. You can just call the previous written function get_classification_accuracy)"
      ]
    },
    {
      "cell_type": "code",
      "metadata": {
        "id": "otkUlj242B04",
        "colab": {
          "base_uri": "https://localhost:8080/"
        },
        "outputId": "2302e1fe-d9c6-441a-96bb-be6e866159a6"
      },
      "source": [
        "get_classification_accuracy(norm_train_X, train_Y, norm_test_X, test_Y)"
      ],
      "execution_count": null,
      "outputs": [
        {
          "output_type": "execute_result",
          "data": {
            "text/plain": [
              "0.6416666666666667"
            ]
          },
          "metadata": {
            "tags": []
          },
          "execution_count": 44
        }
      ]
    }
  ]
}