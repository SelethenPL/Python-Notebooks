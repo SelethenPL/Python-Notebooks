{
  "nbformat": 4,
  "nbformat_minor": 0,
  "metadata": {
    "colab": {
      "name": "[SSN Project] image_colorization",
      "provenance": [],
      "collapsed_sections": []
    },
    "kernelspec": {
      "name": "python3",
      "display_name": "Python 3"
    }
  },
  "cells": [
    {
      "cell_type": "markdown",
      "metadata": {
        "id": "vMuDhtu3AIl4"
      },
      "source": [
        "### Opis projektu\n",
        "Projekt polegający na stworzeniu i wyuczeniu sieci neuronowej w celu kolorowania obrazu czarno-białego."
      ]
    },
    {
      "cell_type": "markdown",
      "metadata": {
        "id": "ZIcfP1Uz_t-w"
      },
      "source": [
        "## Imports"
      ]
    },
    {
      "cell_type": "code",
      "metadata": {
        "id": "38nx5QtOnz0Q"
      },
      "source": [
        "import cv2\n",
        "import numpy as np\n",
        "\n",
        "import tensorflow_datasets as tfds\n",
        "import tensorflow as tf\n",
        "\n",
        "from tensorflow.keras.models import Sequential, Model\n",
        "from tensorflow.keras.layers import Dense, Dropout, Flatten, BatchNormalization, Conv2D, MaxPooling2D, InputLayer, UpSampling2D\n",
        "from tensorflow.keras.optimizers import RMSprop, Adam\n",
        "from tensorflow.keras.optimizers.schedules import ExponentialDecay\n",
        "\n",
        "from skimage.color import rgb2lab, lab2rgb\n",
        "import matplotlib.pyplot as plt"
      ],
      "execution_count": null,
      "outputs": []
    },
    {
      "cell_type": "markdown",
      "metadata": {
        "id": "xmnJFEw8_rY4"
      },
      "source": [
        "## Models definitions"
      ]
    },
    {
      "cell_type": "code",
      "metadata": {
        "id": "alg1ZZuQn4RG"
      },
      "source": [
        "model_four = Sequential([\n",
        "  InputLayer(input_shape=(128, 128, 1)),\n",
        "  Conv2D(64, (3, 3), activation='relu', padding='same'),\n",
        "  Conv2D(64, (3, 3), activation='relu', padding='same', strides=2),\n",
        "  Conv2D(128, (3, 3), activation='relu', padding='same'),\n",
        "  Conv2D(128, (3, 3), activation='relu', padding='same', strides=2),\n",
        "  Conv2D(256, (3, 3), activation='relu', padding='same'),\n",
        "  Conv2D(256, (3, 3), activation='relu', padding='same', strides=2),\n",
        "  Conv2D(512, (3, 3), activation='relu', padding='same'),\n",
        "  Conv2D(256, (3, 3), activation='relu', padding='same'),\n",
        "  Conv2D(128, (3, 3), activation='relu', padding='same'),\n",
        "  UpSampling2D((2, 2)),\n",
        "  Conv2D(64, (3, 3), activation='relu', padding='same'),\n",
        "  UpSampling2D((2, 2)),\n",
        "  Conv2D(32, (3, 3), activation='relu', padding='same'),\n",
        "  Conv2D(2, (3, 3), activation='tanh', padding='same'),\n",
        "  UpSampling2D((2, 2))        \n",
        "])\n",
        "\n",
        "model_four.compile(optimizer=RMSprop(),\n",
        "                  loss='mse',\n",
        "                  metrics=['accuracy'])"
      ],
      "execution_count": null,
      "outputs": []
    },
    {
      "cell_type": "code",
      "metadata": {
        "id": "ZiAf3bZlqHaP"
      },
      "source": [
        "model_two = Sequential([\n",
        "  InputLayer(input_shape=(128, 128, 1)),\n",
        "  Conv2D(64, (3, 3), activation='relu', padding='same'),\n",
        "  Conv2D(64, (3, 3), activation='relu', padding='same', strides=2),\n",
        "  Dropout(0.2),\n",
        "  Conv2D(128, (3, 3), activation='relu', padding='same'),\n",
        "  Conv2D(128, (3, 3), activation='relu', padding='same', strides=2),\n",
        "  Dropout(0.2),\n",
        "  Conv2D(256, (3, 3), activation='relu', padding='same'),\n",
        "  Conv2D(256, (3, 3), activation='relu', padding='same', strides=2),\n",
        "  Dropout(0.2),\n",
        "  Conv2D(512, (3, 3), activation='relu', padding='same'),\n",
        "  Dropout(0.2),\n",
        "  Conv2D(256, (3, 3), activation='relu', padding='same'),\n",
        "  Dropout(0.3),\n",
        "  Conv2D(128, (3, 3), activation='relu', padding='same'),\n",
        "  Dropout(0.3),\n",
        "  UpSampling2D((2, 2)),\n",
        "  Conv2D(64, (3, 3), activation='relu', padding='same'),\n",
        "  Dropout(0.2),\n",
        "  UpSampling2D((2, 2)),\n",
        "  Conv2D(32, (3, 3), activation='relu', padding='same'),\n",
        "  Dropout(0.2),\n",
        "  Conv2D(2, (3, 3), activation='tanh', padding='same'),\n",
        "  Dropout(0.2),\n",
        "  UpSampling2D((2, 2))        \n",
        "])\n",
        "\n",
        "model_two.compile(optimizer=Adam(lr=0.001),\n",
        "                  loss='mse',\n",
        "                  metrics=['accuracy'])"
      ],
      "execution_count": null,
      "outputs": []
    },
    {
      "cell_type": "code",
      "metadata": {
        "id": "JaawVezoQOuq"
      },
      "source": [
        "model_three = Sequential([\n",
        "  InputLayer(input_shape=(128, 128, 1)),\n",
        "  Conv2D(64, (3, 3), activation='relu', padding='same'),\n",
        "  BatchNormalization(momentum=0.95),\n",
        "  Conv2D(64, (3, 3), activation='relu', padding='same', strides=2),\n",
        "  BatchNormalization(momentum=0.95),\n",
        "  Conv2D(128, (3, 3), activation='relu', padding='same'),\n",
        "  BatchNormalization(momentum=0.95),\n",
        "  Conv2D(128, (3, 3), activation='relu', padding='same', strides=2),\n",
        "  BatchNormalization(momentum=0.95),\n",
        "  Conv2D(256, (3, 3), activation='relu', padding='same'),\n",
        "  BatchNormalization(momentum=0.95),\n",
        "  Conv2D(256, (3, 3), activation='relu', padding='same', strides=2),\n",
        "  BatchNormalization(momentum=0.95),\n",
        "  Conv2D(512, (3, 3), activation='relu', padding='same'),\n",
        "  BatchNormalization(momentum=0.95),\n",
        "  Conv2D(256, (3, 3), activation='relu', padding='same'),\n",
        "  BatchNormalization(momentum=0.95),\n",
        "  Conv2D(128, (3, 3), activation='relu', padding='same'),\n",
        "  BatchNormalization(momentum=0.95),\n",
        "  UpSampling2D((2, 2)),\n",
        "  Conv2D(64, (3, 3), activation='relu', padding='same'),\n",
        "  BatchNormalization(momentum=0.95),\n",
        "  UpSampling2D((2, 2)),\n",
        "  Conv2D(32, (3, 3), activation='relu', padding='same'),\n",
        "  BatchNormalization(momentum=0.95),\n",
        "  Conv2D(2, (3, 3), activation='tanh', padding='same'),\n",
        "  BatchNormalization(momentum=0.95),\n",
        "  UpSampling2D((2, 2))        \n",
        "])\n",
        "\n",
        "model_three.compile(optimizer=Adam(lr=0.001),\n",
        "                  loss='mse',\n",
        "                  metrics=['accuracy'])"
      ],
      "execution_count": null,
      "outputs": []
    },
    {
      "cell_type": "code",
      "metadata": {
        "id": "qdnzI210dP7g"
      },
      "source": [
        "model_four = Sequential([\n",
        "  InputLayer(input_shape=(128, 128, 1)),\n",
        "  Conv2D(64, (3, 3), activation='relu', padding='same'),\n",
        "  BatchNormalization(momentum=0.95),\n",
        "  Conv2D(64, (3, 3), activation='relu', padding='same', strides=2),\n",
        "  BatchNormalization(momentum=0.95),\n",
        "  Conv2D(128, (3, 3), activation='relu', padding='same'),\n",
        "  BatchNormalization(momentum=0.95),\n",
        "  Conv2D(128, (3, 3), activation='relu', padding='same', strides=2),\n",
        "  BatchNormalization(momentum=0.95),\n",
        "  Conv2D(256, (3, 3), activation='relu', padding='same'),\n",
        "  BatchNormalization(momentum=0.95),\n",
        "  Conv2D(256, (3, 3), activation='relu', padding='same', strides=2),\n",
        "  BatchNormalization(momentum=0.95),\n",
        "  Conv2D(512, (3, 3), activation='relu', padding='same'),\n",
        "  BatchNormalization(momentum=0.95),\n",
        "  Conv2D(256, (3, 3), activation='relu', padding='same'),\n",
        "  BatchNormalization(momentum=0.95),\n",
        "  Conv2D(128, (3, 3), activation='relu', padding='same'),\n",
        "  BatchNormalization(momentum=0.95),\n",
        "  UpSampling2D((2, 2)),\n",
        "  Conv2D(64, (3, 3), activation='relu', padding='same'),\n",
        "  BatchNormalization(momentum=0.95),\n",
        "  UpSampling2D((2, 2)),\n",
        "  Conv2D(32, (3, 3), activation='relu', padding='same'),\n",
        "  BatchNormalization(momentum=0.95),\n",
        "  Conv2D(2, (3, 3), activation='tanh', padding='same'),\n",
        "  BatchNormalization(momentum=0.95),\n",
        "  UpSampling2D((2, 2))        \n",
        "])\n",
        "\n",
        "model_four.compile(optimizer=Adam(ExponentialDecay(initial_learning_rate=0.001, decay_steps=10000, decay_rate=0.99)),\n",
        "                  loss='mse',\n",
        "                  metrics=['accuracy'])"
      ],
      "execution_count": null,
      "outputs": []
    },
    {
      "cell_type": "markdown",
      "metadata": {
        "id": "7eb8fThN_kvG"
      },
      "source": [
        "## Create dataset"
      ]
    },
    {
      "cell_type": "code",
      "metadata": {
        "id": "JE0bYOAEyxYk"
      },
      "source": [
        "input_shape = 32\n",
        "batch_size = 10\n",
        "\n",
        "how_many_images = 1000"
      ],
      "execution_count": null,
      "outputs": []
    },
    {
      "cell_type": "code",
      "metadata": {
        "id": "8sbn4KQKbvrR"
      },
      "source": [
        "def check_shape(img):\n",
        "  shape = tf.shape(img)\n",
        "  if shape[0] >= input_shape and shape[1] >= input_shape:\n",
        "    return True\n",
        "  else:\n",
        "    return False\n",
        "\n",
        "def reshape_image(img):\n",
        "  shape = tf.shape(img)\n",
        "  sliced = img\n",
        "  if(shape[0] != shape[1]):\n",
        "    shape_2 = shape[0] if shape[0] < shape[1] else shape[1]\n",
        "    x = 0 if shape[0] < shape[1] else int((shape[0] - shape[1]) / 2)\n",
        "    y = 0 if shape[0] > shape[1] else int((shape[1] - shape[0]) / 2)\n",
        "    start_pt = [x, y, 0]\n",
        "    sliced = tf.slice(img, start_pt, [shape_2, ref_shape_2, 3])\n",
        "  final = tf.image.resize(sliced, [input_shape, input_shape], method='nearest') \n",
        "  return final"
      ],
      "execution_count": null,
      "outputs": []
    },
    {
      "cell_type": "code",
      "metadata": {
        "id": "KJhh7FoV3gwX"
      },
      "source": [
        "dataset = tfds.load(name='imagenette', split='train')\n",
        "\n",
        "dataset = dataset.filter(lambda x: check_shape(x['image']))\\\n",
        "                 .map(lambda y: y['image'])\\\n",
        "                 .map(lambda z: reshape_image(z))\\\n",
        "                 .shuffle(1024)\n",
        "\n",
        "dataset = list(dataset.take(how_many_images).as_numpy_iterator())"
      ],
      "execution_count": null,
      "outputs": []
    },
    {
      "cell_type": "code",
      "metadata": {
        "id": "Ypw-033IoKHG"
      },
      "source": [
        "x_train = []\n",
        "y_train = []\n",
        "x_test = []\n",
        "y_test = []\n",
        "\n",
        "for index, image in enumerate(dataset):\n",
        "  img_lab = rgb2lab(image / 255.0)\n",
        "  if (index < int(0.90 * len(dataset))):\n",
        "    x_train.append(img_lab[:, :, 0:1])\n",
        "    y_train.append(img_lab[:, :, 1:] / 128.0)\n",
        "  else:\n",
        "    x_test.append(img_lab[:, :, 0:1])\n",
        "    y_test.append(img_lab[:, :, 1:] / 128.0) "
      ],
      "execution_count": null,
      "outputs": []
    },
    {
      "cell_type": "code",
      "metadata": {
        "id": "I075Vgmf4aZN"
      },
      "source": [
        "x_train_tensor = tf.convert_to_tensor(np.asarray(x_train))\n",
        "y_train_tensor = tf.convert_to_tensor(np.asarray(y_train))\n",
        "x_test_tensor = tf.convert_to_tensor(np.asarray(x_test))\n",
        "y_test_tensor = tf.convert_to_tensor(np.asarray(y_test))"
      ],
      "execution_count": null,
      "outputs": []
    },
    {
      "cell_type": "markdown",
      "metadata": {
        "id": "RTz5T3EN_gSN"
      },
      "source": [
        "## Model fitting and testing"
      ]
    },
    {
      "cell_type": "code",
      "metadata": {
        "id": "I0V-Mw57oLH6"
      },
      "source": [
        "result_one_batch10 = model_one.fit(x_train_tensor, y_train_tensor,\n",
        "                       batch_size=batch_size,\n",
        "                       epochs=10,\n",
        "                       validation_data=(x_test_tensor, y_test_tensor))\n",
        "\n",
        "model_one.save_weights(\"firstModelBatch10.h5\")\n",
        "\n",
        "plt.plot(result_one.history[\"accuracy\"],label=\"Pierwszy model batch=10\")\n",
        "plt.title(\"Accuracy dla zbioru treningowego\")\n",
        "plt.xlabel(\"Epoch\")\n",
        "plt.ylabel(\"Accuracy\")\n",
        "plt.legend()\n",
        "plt.show()\n",
        "\n",
        "plt.plot(result_one_batch10.history[\"loss\"], label=\"Pierwszy model batch=10\")\n",
        "plt.title(\"Loss[MSE] dla zbioru treningowego\")\n",
        "plt.xlabel(\"Epoch\")\n",
        "plt.ylabel(\"Loss\")\n",
        "plt.legend()\n",
        "plt.show()"
      ],
      "execution_count": null,
      "outputs": []
    },
    {
      "cell_type": "code",
      "metadata": {
        "id": "m2J4e3DZyNJk"
      },
      "source": [
        "result_one_batch20 = model_one.fit(x_train_tensor, y_train_tensor,\n",
        "                       batch_size=20,\n",
        "                       epochs=10,\n",
        "                       validation_data=(x_test_tensor, y_test_tensor))\n",
        "\n",
        "model_one.save_weights(\"firstModelBatch20.h5\")\n",
        "\n",
        "plt.plot(result_one_batch20.history[\"accuracy\"],label=\"Pierwszy model batch=20\")\n",
        "plt.title(\"Accuracy dla zbioru treningowego\")\n",
        "plt.xlabel(\"Epoch\")\n",
        "plt.ylabel(\"Accuracy\")\n",
        "plt.legend()\n",
        "plt.show()\n",
        "\n",
        "plt.plot(result_one_batch20.history[\"loss\"], label=\"Pierwszy model batch=20\")\n",
        "plt.title(\"Loss[MSE] dla zbioru treningowego\")\n",
        "plt.xlabel(\"Epoch\")\n",
        "plt.ylabel(\"Loss\")\n",
        "plt.legend()\n",
        "plt.show()"
      ],
      "execution_count": null,
      "outputs": []
    },
    {
      "cell_type": "code",
      "metadata": {
        "id": "G8Q4vlK5X_7G",
        "colab": {
          "base_uri": "https://localhost:8080/",
          "height": 1000
        },
        "outputId": "b9d3a7ad-4d92-4492-bec9-49699ff62683"
      },
      "source": [
        "result_two = model_two.fit(x_train_tensor, y_train_tensor,\n",
        "                       batch_size=batch_size,\n",
        "                       epochs=10,\n",
        "                       validation_data=(x_test_tensor, y_test_tensor))\n",
        "\n",
        "model_two.save_weights(\"secondModel.h5\")\n",
        "\n",
        "plt.plot(result_two.history[\"accuracy\"],label=\"Drugi model\")\n",
        "plt.title(\"Accuracy dla zbioru treningowego\")\n",
        "plt.xlabel(\"Epoch\")\n",
        "plt.ylabel(\"Accuracy\")\n",
        "plt.legend()\n",
        "plt.show()\n",
        "\n",
        "plt.plot(result_two.history[\"loss\"], label=\"Drugi model\")\n",
        "plt.title(\"Loss[MSE] dla zbioru treningowego\")\n",
        "plt.xlabel(\"Epoch\")\n",
        "plt.ylabel(\"Loss\")\n",
        "plt.legend()\n",
        "plt.show()"
      ],
      "execution_count": null,
      "outputs": [
        {
          "output_type": "stream",
          "text": [
            "Epoch 1/10\n",
            "WARNING:tensorflow:Model was constructed with shape (None, 128, 128, 1) for input KerasTensor(type_spec=TensorSpec(shape=(None, 128, 128, 1), dtype=tf.float32, name='input_13'), name='input_13', description=\"created by layer 'input_13'\"), but it was called on an input with incompatible shape (10, 32, 32, 1).\n"
          ],
          "name": "stdout"
        },
        {
          "output_type": "stream",
          "text": [
            "WARNING:tensorflow:Model was constructed with shape (None, 128, 128, 1) for input KerasTensor(type_spec=TensorSpec(shape=(None, 128, 128, 1), dtype=tf.float32, name='input_13'), name='input_13', description=\"created by layer 'input_13'\"), but it was called on an input with incompatible shape (10, 32, 32, 1).\n"
          ],
          "name": "stderr"
        },
        {
          "output_type": "stream",
          "text": [
            "WARNING:tensorflow:Model was constructed with shape (None, 128, 128, 1) for input KerasTensor(type_spec=TensorSpec(shape=(None, 128, 128, 1), dtype=tf.float32, name='input_13'), name='input_13', description=\"created by layer 'input_13'\"), but it was called on an input with incompatible shape (10, 32, 32, 1).\n"
          ],
          "name": "stdout"
        },
        {
          "output_type": "stream",
          "text": [
            "WARNING:tensorflow:Model was constructed with shape (None, 128, 128, 1) for input KerasTensor(type_spec=TensorSpec(shape=(None, 128, 128, 1), dtype=tf.float32, name='input_13'), name='input_13', description=\"created by layer 'input_13'\"), but it was called on an input with incompatible shape (10, 32, 32, 1).\n"
          ],
          "name": "stderr"
        },
        {
          "output_type": "stream",
          "text": [
            "90/90 [==============================] - ETA: 0s - loss: 0.0365 - accuracy: 0.5729WARNING:tensorflow:Model was constructed with shape (None, 128, 128, 1) for input KerasTensor(type_spec=TensorSpec(shape=(None, 128, 128, 1), dtype=tf.float32, name='input_13'), name='input_13', description=\"created by layer 'input_13'\"), but it was called on an input with incompatible shape (10, 32, 32, 1).\n"
          ],
          "name": "stdout"
        },
        {
          "output_type": "stream",
          "text": [
            "WARNING:tensorflow:Model was constructed with shape (None, 128, 128, 1) for input KerasTensor(type_spec=TensorSpec(shape=(None, 128, 128, 1), dtype=tf.float32, name='input_13'), name='input_13', description=\"created by layer 'input_13'\"), but it was called on an input with incompatible shape (10, 32, 32, 1).\n"
          ],
          "name": "stderr"
        },
        {
          "output_type": "stream",
          "text": [
            "\b\b\b\b\b\b\b\b\b\b\b\b\b\b\b\b\b\b\b\b\b\b\b\b\b\b\b\b\b\b\b\b\b\b\b\b\b\b\b\b\b\b\b\b\b\b\b\b\b\b\b\b\b\b\b\b\b\b\b\b\b\b\b\b\b\b\b\b\b\b\b\b\b\b\b\b\b\b\b\b\b\b\r90/90 [==============================] - 25s 271ms/step - loss: 0.0363 - accuracy: 0.5731 - val_loss: 0.0162 - val_accuracy: 0.6631\n",
            "Epoch 2/10\n",
            "90/90 [==============================] - 24s 262ms/step - loss: 0.0156 - accuracy: 0.6257 - val_loss: 0.0161 - val_accuracy: 0.6631\n",
            "Epoch 3/10\n",
            "90/90 [==============================] - 24s 261ms/step - loss: 0.0155 - accuracy: 0.6106 - val_loss: 0.0163 - val_accuracy: 0.6631\n",
            "Epoch 4/10\n",
            "90/90 [==============================] - 24s 262ms/step - loss: 0.0162 - accuracy: 0.6073 - val_loss: 0.0161 - val_accuracy: 0.6631\n",
            "Epoch 5/10\n",
            "90/90 [==============================] - 23s 261ms/step - loss: 0.0148 - accuracy: 0.6215 - val_loss: 0.0161 - val_accuracy: 0.6631\n",
            "Epoch 6/10\n",
            "90/90 [==============================] - 24s 262ms/step - loss: 0.0156 - accuracy: 0.5996 - val_loss: 0.0162 - val_accuracy: 0.6631\n",
            "Epoch 7/10\n",
            "90/90 [==============================] - 24s 263ms/step - loss: 0.0151 - accuracy: 0.6094 - val_loss: 0.0162 - val_accuracy: 0.6631\n",
            "Epoch 8/10\n",
            "90/90 [==============================] - 24s 267ms/step - loss: 0.0155 - accuracy: 0.6020 - val_loss: 0.0161 - val_accuracy: 0.6631\n",
            "Epoch 9/10\n",
            "90/90 [==============================] - 24s 263ms/step - loss: 0.0159 - accuracy: 0.5944 - val_loss: 0.0160 - val_accuracy: 0.6631\n",
            "Epoch 10/10\n",
            "90/90 [==============================] - 24s 262ms/step - loss: 0.0158 - accuracy: 0.6093 - val_loss: 0.0160 - val_accuracy: 0.6631\n"
          ],
          "name": "stdout"
        },
        {
          "output_type": "display_data",
          "data": {
            "image/png": "[encoded data removed]",
            "text/plain": [
              "<Figure size 432x288 with 1 Axes>"
            ]
          },
          "metadata": {
            "tags": [],
            "needs_background": "light"
          }
        },
        {
          "output_type": "display_data",
          "data": {
            "image/png": "[encoded data removed]",
            "text/plain": [
              "<Figure size 432x288 with 1 Axes>"
            ]
          },
          "metadata": {
            "tags": [],
            "needs_background": "light"
          }
        }
      ]
    },
    {
      "cell_type": "code",
      "metadata": {
        "colab": {
          "base_uri": "https://localhost:8080/",
          "height": 1000
        },
        "id": "pumTtM0OfUEl",
        "outputId": "f70eb2f8-e608-4917-ac2d-aa33e899e653"
      },
      "source": [
        "result_three = model_three.fit(x_train_tensor, y_train_tensor,\n",
        "                       batch_size=batch_size,\n",
        "                       epochs=10,\n",
        "                       validation_data=(x_test_tensor, y_test_tensor))\n",
        "\n",
        "model_three.save_weights(\"thirdModel.h5\")\n",
        "\n",
        "plt.plot(result_three.history[\"accuracy\"],label=\"Trzeci model\")\n",
        "plt.title(\"Accuracy dla zbioru treningowego\")\n",
        "plt.xlabel(\"Epoch\")\n",
        "plt.ylabel(\"Accuracy\")\n",
        "plt.legend()\n",
        "plt.show()\n",
        "\n",
        "plt.plot(result_three.history[\"loss\"], label=\"Trzeci model\")\n",
        "plt.title(\"Loss[MSE] dla zbioru treningowego\")\n",
        "plt.xlabel(\"Epoch\")\n",
        "plt.ylabel(\"Loss\")\n",
        "plt.legend()\n",
        "plt.show()"
      ],
      "execution_count": null,
      "outputs": [
        {
          "output_type": "stream",
          "text": [
            "Epoch 1/10\n",
            "WARNING:tensorflow:Model was constructed with shape (None, 128, 128, 1) for input KerasTensor(type_spec=TensorSpec(shape=(None, 128, 128, 1), dtype=tf.float32, name='input_8'), name='input_8', description=\"created by layer 'input_8'\"), but it was called on an input with incompatible shape (10, 32, 32, 1).\n"
          ],
          "name": "stdout"
        },
        {
          "output_type": "stream",
          "text": [
            "WARNING:tensorflow:Model was constructed with shape (None, 128, 128, 1) for input KerasTensor(type_spec=TensorSpec(shape=(None, 128, 128, 1), dtype=tf.float32, name='input_8'), name='input_8', description=\"created by layer 'input_8'\"), but it was called on an input with incompatible shape (10, 32, 32, 1).\n"
          ],
          "name": "stderr"
        },
        {
          "output_type": "stream",
          "text": [
            "WARNING:tensorflow:Model was constructed with shape (None, 128, 128, 1) for input KerasTensor(type_spec=TensorSpec(shape=(None, 128, 128, 1), dtype=tf.float32, name='input_8'), name='input_8', description=\"created by layer 'input_8'\"), but it was called on an input with incompatible shape (10, 32, 32, 1).\n"
          ],
          "name": "stdout"
        },
        {
          "output_type": "stream",
          "text": [
            "WARNING:tensorflow:Model was constructed with shape (None, 128, 128, 1) for input KerasTensor(type_spec=TensorSpec(shape=(None, 128, 128, 1), dtype=tf.float32, name='input_8'), name='input_8', description=\"created by layer 'input_8'\"), but it was called on an input with incompatible shape (10, 32, 32, 1).\n"
          ],
          "name": "stderr"
        },
        {
          "output_type": "stream",
          "text": [
            "90/90 [==============================] - ETA: 0s - loss: 0.9574 - accuracy: 0.5014WARNING:tensorflow:Model was constructed with shape (None, 128, 128, 1) for input KerasTensor(type_spec=TensorSpec(shape=(None, 128, 128, 1), dtype=tf.float32, name='input_8'), name='input_8', description=\"created by layer 'input_8'\"), but it was called on an input with incompatible shape (10, 32, 32, 1).\n"
          ],
          "name": "stdout"
        },
        {
          "output_type": "stream",
          "text": [
            "WARNING:tensorflow:Model was constructed with shape (None, 128, 128, 1) for input KerasTensor(type_spec=TensorSpec(shape=(None, 128, 128, 1), dtype=tf.float32, name='input_8'), name='input_8', description=\"created by layer 'input_8'\"), but it was called on an input with incompatible shape (10, 32, 32, 1).\n"
          ],
          "name": "stderr"
        },
        {
          "output_type": "stream",
          "text": [
            "\b\b\b\b\b\b\b\b\b\b\b\b\b\b\b\b\b\b\b\b\b\b\b\b\b\b\b\b\b\b\b\b\b\b\b\b\b\b\b\b\b\b\b\b\b\b\b\b\b\b\b\b\b\b\b\b\b\b\b\b\b\b\b\b\b\b\b\b\b\b\b\b\b\b\b\b\b\b\b\b\b\b\r90/90 [==============================] - 26s 278ms/step - loss: 0.9569 - accuracy: 0.5014 - val_loss: 0.7383 - val_accuracy: 0.4275\n",
            "Epoch 2/10\n",
            "90/90 [==============================] - 25s 276ms/step - loss: 0.7714 - accuracy: 0.5076 - val_loss: 0.5432 - val_accuracy: 0.4865\n",
            "Epoch 3/10\n",
            "90/90 [==============================] - 25s 275ms/step - loss: 0.6405 - accuracy: 0.4789 - val_loss: 0.5702 - val_accuracy: 0.4911\n",
            "Epoch 4/10\n",
            "90/90 [==============================] - 25s 277ms/step - loss: 0.5320 - accuracy: 0.5358 - val_loss: 0.6378 - val_accuracy: 0.4504\n",
            "Epoch 5/10\n",
            "90/90 [==============================] - 25s 275ms/step - loss: 0.4210 - accuracy: 0.5603 - val_loss: 0.3946 - val_accuracy: 0.4240\n",
            "Epoch 6/10\n",
            "90/90 [==============================] - 25s 275ms/step - loss: 0.3337 - accuracy: 0.5090 - val_loss: 0.2983 - val_accuracy: 0.4703\n",
            "Epoch 7/10\n",
            "90/90 [==============================] - 25s 275ms/step - loss: 0.2567 - accuracy: 0.5640 - val_loss: 0.2019 - val_accuracy: 0.4814\n",
            "Epoch 8/10\n",
            "90/90 [==============================] - 25s 277ms/step - loss: 0.1996 - accuracy: 0.5367 - val_loss: 0.1492 - val_accuracy: 0.5558\n",
            "Epoch 9/10\n",
            "90/90 [==============================] - 25s 276ms/step - loss: 0.1559 - accuracy: 0.5401 - val_loss: 0.1192 - val_accuracy: 0.5077\n",
            "Epoch 10/10\n",
            "90/90 [==============================] - 25s 276ms/step - loss: 0.1186 - accuracy: 0.5408 - val_loss: 0.1150 - val_accuracy: 0.4491\n"
          ],
          "name": "stdout"
        },
        {
          "output_type": "display_data",
          "data": {
            "image/png": "[encoded data removed]",
            "text/plain": [
              "<Figure size 432x288 with 1 Axes>"
            ]
          },
          "metadata": {
            "tags": [],
            "needs_background": "light"
          }
        },
        {
          "output_type": "display_data",
          "data": {
            "image/png": "[encoded data removed]",
            "text/plain": [
              "<Figure size 432x288 with 1 Axes>"
            ]
          },
          "metadata": {
            "tags": [],
            "needs_background": "light"
          }
        }
      ]
    },
    {
      "cell_type": "code",
      "metadata": {
        "colab": {
          "base_uri": "https://localhost:8080/",
          "height": 1000
        },
        "id": "zhO0BbfkfVmx",
        "outputId": "2234e500-e6f4-4566-f007-a582ab80b5c3"
      },
      "source": [
        "result_four = model_four.fit(x_train_tensor, y_train_tensor,\n",
        "                       batch_size=batch_size,\n",
        "                       epochs=10,\n",
        "                       validation_data=(x_test_tensor, y_test_tensor))\n",
        "\n",
        "model_four.save_weights(\"fourthModel.h5\")\n",
        "\n",
        "plt.plot(result_four.history[\"accuracy\"],label=\"Pierwszy model\")\n",
        "plt.title(\"Accuracy dla zbioru treningowego\")\n",
        "plt.xlabel(\"Epoch\")\n",
        "plt.ylabel(\"Accuracy\")\n",
        "plt.legend()\n",
        "plt.show()\n",
        "\n",
        "plt.plot(result_four.history[\"loss\"], label=\"Pierwszy model\")\n",
        "plt.title(\"Loss[MSE] dla zbioru treningowego\")\n",
        "plt.xlabel(\"Epoch\")\n",
        "plt.ylabel(\"Loss\")\n",
        "plt.legend()\n",
        "plt.show()"
      ],
      "execution_count": null,
      "outputs": [
        {
          "output_type": "stream",
          "text": [
            "Epoch 1/10\n",
            "WARNING:tensorflow:Model was constructed with shape (None, 128, 128, 1) for input KerasTensor(type_spec=TensorSpec(shape=(None, 128, 128, 1), dtype=tf.float32, name='input_10'), name='input_10', description=\"created by layer 'input_10'\"), but it was called on an input with incompatible shape (10, 32, 32, 1).\n"
          ],
          "name": "stdout"
        },
        {
          "output_type": "stream",
          "text": [
            "WARNING:tensorflow:Model was constructed with shape (None, 128, 128, 1) for input KerasTensor(type_spec=TensorSpec(shape=(None, 128, 128, 1), dtype=tf.float32, name='input_10'), name='input_10', description=\"created by layer 'input_10'\"), but it was called on an input with incompatible shape (10, 32, 32, 1).\n"
          ],
          "name": "stderr"
        },
        {
          "output_type": "stream",
          "text": [
            "WARNING:tensorflow:Model was constructed with shape (None, 128, 128, 1) for input KerasTensor(type_spec=TensorSpec(shape=(None, 128, 128, 1), dtype=tf.float32, name='input_10'), name='input_10', description=\"created by layer 'input_10'\"), but it was called on an input with incompatible shape (10, 32, 32, 1).\n"
          ],
          "name": "stdout"
        },
        {
          "output_type": "stream",
          "text": [
            "WARNING:tensorflow:Model was constructed with shape (None, 128, 128, 1) for input KerasTensor(type_spec=TensorSpec(shape=(None, 128, 128, 1), dtype=tf.float32, name='input_10'), name='input_10', description=\"created by layer 'input_10'\"), but it was called on an input with incompatible shape (10, 32, 32, 1).\n"
          ],
          "name": "stderr"
        },
        {
          "output_type": "stream",
          "text": [
            "90/90 [==============================] - ETA: 0s - loss: 0.9583 - accuracy: 0.5186WARNING:tensorflow:Model was constructed with shape (None, 128, 128, 1) for input KerasTensor(type_spec=TensorSpec(shape=(None, 128, 128, 1), dtype=tf.float32, name='input_10'), name='input_10', description=\"created by layer 'input_10'\"), but it was called on an input with incompatible shape (10, 32, 32, 1).\n"
          ],
          "name": "stdout"
        },
        {
          "output_type": "stream",
          "text": [
            "WARNING:tensorflow:Model was constructed with shape (None, 128, 128, 1) for input KerasTensor(type_spec=TensorSpec(shape=(None, 128, 128, 1), dtype=tf.float32, name='input_10'), name='input_10', description=\"created by layer 'input_10'\"), but it was called on an input with incompatible shape (10, 32, 32, 1).\n"
          ],
          "name": "stderr"
        },
        {
          "output_type": "stream",
          "text": [
            "\b\b\b\b\b\b\b\b\b\b\b\b\b\b\b\b\b\b\b\b\b\b\b\b\b\b\b\b\b\b\b\b\b\b\b\b\b\b\b\b\b\b\b\b\b\b\b\b\b\b\b\b\b\b\b\b\b\b\b\b\b\b\b\b\b\b\b\b\b\b\b\b\b\b\b\b\b\b\b\b\b\b\r90/90 [==============================] - 26s 276ms/step - loss: 0.9579 - accuracy: 0.5184 - val_loss: 0.9348 - val_accuracy: 0.4349\n",
            "Epoch 2/10\n",
            "90/90 [==============================] - 25s 273ms/step - loss: 0.7782 - accuracy: 0.4745 - val_loss: 0.6346 - val_accuracy: 0.4764\n",
            "Epoch 3/10\n",
            "90/90 [==============================] - 24s 271ms/step - loss: 0.6336 - accuracy: 0.5030 - val_loss: 0.5418 - val_accuracy: 0.5440\n",
            "Epoch 4/10\n",
            "90/90 [==============================] - 24s 272ms/step - loss: 0.5208 - accuracy: 0.5150 - val_loss: 0.4309 - val_accuracy: 0.5481\n",
            "Epoch 5/10\n",
            "90/90 [==============================] - 24s 272ms/step - loss: 0.4140 - accuracy: 0.5388 - val_loss: 0.5163 - val_accuracy: 0.4403\n",
            "Epoch 6/10\n",
            "90/90 [==============================] - 25s 273ms/step - loss: 0.3279 - accuracy: 0.5448 - val_loss: 0.2296 - val_accuracy: 0.5484\n",
            "Epoch 7/10\n",
            "90/90 [==============================] - 25s 274ms/step - loss: 0.2559 - accuracy: 0.5400 - val_loss: 0.2344 - val_accuracy: 0.5367\n",
            "Epoch 8/10\n",
            "90/90 [==============================] - 25s 273ms/step - loss: 0.2033 - accuracy: 0.5291 - val_loss: 0.2008 - val_accuracy: 0.4261\n",
            "Epoch 9/10\n",
            "90/90 [==============================] - 25s 273ms/step - loss: 0.1558 - accuracy: 0.5420 - val_loss: 0.1112 - val_accuracy: 0.5280\n",
            "Epoch 10/10\n",
            "90/90 [==============================] - 25s 273ms/step - loss: 0.1160 - accuracy: 0.5490 - val_loss: 0.1150 - val_accuracy: 0.5005\n"
          ],
          "name": "stdout"
        },
        {
          "output_type": "display_data",
          "data": {
            "image/png": "[encoded data removed]",
            "text/plain": [
              "<Figure size 432x288 with 1 Axes>"
            ]
          },
          "metadata": {
            "tags": [],
            "needs_background": "light"
          }
        },
        {
          "output_type": "display_data",
          "data": {
            "image/png": "[encoded data removed]",
            "text/plain": [
              "<Figure size 432x288 with 1 Axes>"
            ]
          },
          "metadata": {
            "tags": [],
            "needs_background": "light"
          }
        }
      ]
    },
    {
      "cell_type": "code",
      "metadata": {
        "colab": {
          "base_uri": "https://localhost:8080/",
          "height": 573
        },
        "id": "w82hyhZ4tC4C",
        "outputId": "473e5ddb-c489-41cc-8cf8-74e73e55b010"
      },
      "source": [
        "model_four.save_weights(\"fourthLongerModel.h5\")\n",
        "\n",
        "plt.plot(result_four_but_longer.history[\"accuracy\"],label=\"Czwarty model, ale dłuższy\")\n",
        "plt.title(\"Accuracy dla zbioru treningowego\")\n",
        "plt.xlabel(\"Epoch\")\n",
        "plt.ylabel(\"Accuracy\")\n",
        "plt.legend()\n",
        "plt.show()\n",
        "\n",
        "plt.plot(result_four_but_longer.history[\"loss\"], label=\"Czwarty model, ale dłuższy\")\n",
        "plt.title(\"Loss[MSE] dla zbioru treningowego\")\n",
        "plt.xlabel(\"Epoch\")\n",
        "plt.ylabel(\"Loss\")\n",
        "plt.legend()\n",
        "plt.show()"
      ],
      "execution_count": null,
      "outputs": [
        {
          "output_type": "display_data",
          "data": {
            "image/png": "[encoded data removed]",
            "text/plain": [
              "<Figure size 432x288 with 1 Axes>"
            ]
          },
          "metadata": {
            "tags": [],
            "needs_background": "light"
          }
        },
        {
          "output_type": "display_data",
          "data": {
            "image/png": "[encoded data removed]",
            "text/plain": [
              "<Figure size 432x288 with 1 Axes>"
            ]
          },
          "metadata": {
            "tags": [],
            "needs_background": "light"
          }
        }
      ]
    },
    {
      "cell_type": "code",
      "metadata": {
        "colab": {
          "base_uri": "https://localhost:8080/",
          "height": 1000
        },
        "id": "-a_OillXox25",
        "outputId": "db0d08d1-e31f-44c8-b6f2-eacd838d08e7"
      },
      "source": [
        "result_four_but_longer = model_four.fit(x_train_tensor, y_train_tensor,\n",
        "                       batch_size=batch_size,\n",
        "                       epochs=40,\n",
        "                       validation_data=(x_test_tensor, y_test_tensor))"
      ],
      "execution_count": null,
      "outputs": [
        {
          "output_type": "stream",
          "text": [
            "Epoch 1/40\n",
            "WARNING:tensorflow:Model was constructed with shape (None, 128, 128, 1) for input KerasTensor(type_spec=TensorSpec(shape=(None, 128, 128, 1), dtype=tf.float32, name='input_15'), name='input_15', description=\"created by layer 'input_15'\"), but it was called on an input with incompatible shape (10, 32, 32, 1).\n"
          ],
          "name": "stdout"
        },
        {
          "output_type": "stream",
          "text": [
            "WARNING:tensorflow:Model was constructed with shape (None, 128, 128, 1) for input KerasTensor(type_spec=TensorSpec(shape=(None, 128, 128, 1), dtype=tf.float32, name='input_15'), name='input_15', description=\"created by layer 'input_15'\"), but it was called on an input with incompatible shape (10, 32, 32, 1).\n"
          ],
          "name": "stderr"
        },
        {
          "output_type": "stream",
          "text": [
            "WARNING:tensorflow:Model was constructed with shape (None, 128, 128, 1) for input KerasTensor(type_spec=TensorSpec(shape=(None, 128, 128, 1), dtype=tf.float32, name='input_15'), name='input_15', description=\"created by layer 'input_15'\"), but it was called on an input with incompatible shape (10, 32, 32, 1).\n"
          ],
          "name": "stdout"
        },
        {
          "output_type": "stream",
          "text": [
            "WARNING:tensorflow:Model was constructed with shape (None, 128, 128, 1) for input KerasTensor(type_spec=TensorSpec(shape=(None, 128, 128, 1), dtype=tf.float32, name='input_15'), name='input_15', description=\"created by layer 'input_15'\"), but it was called on an input with incompatible shape (10, 32, 32, 1).\n"
          ],
          "name": "stderr"
        },
        {
          "output_type": "stream",
          "text": [
            "90/90 [==============================] - ETA: 0s - loss: 0.1313 - accuracy: 0.5909WARNING:tensorflow:Model was constructed with shape (None, 128, 128, 1) for input KerasTensor(type_spec=TensorSpec(shape=(None, 128, 128, 1), dtype=tf.float32, name='input_15'), name='input_15', description=\"created by layer 'input_15'\"), but it was called on an input with incompatible shape (10, 32, 32, 1).\n"
          ],
          "name": "stdout"
        },
        {
          "output_type": "stream",
          "text": [
            "WARNING:tensorflow:Model was constructed with shape (None, 128, 128, 1) for input KerasTensor(type_spec=TensorSpec(shape=(None, 128, 128, 1), dtype=tf.float32, name='input_15'), name='input_15', description=\"created by layer 'input_15'\"), but it was called on an input with incompatible shape (10, 32, 32, 1).\n"
          ],
          "name": "stderr"
        },
        {
          "output_type": "stream",
          "text": [
            "\b\b\b\b\b\b\b\b\b\b\b\b\b\b\b\b\b\b\b\b\b\b\b\b\b\b\b\b\b\b\b\b\b\b\b\b\b\b\b\b\b\b\b\b\b\b\b\b\b\b\b\b\b\b\b\b\b\b\b\b\b\b\b\b\b\b\b\b\b\b\b\b\b\b\b\b\b\b\b\b\b\b\r90/90 [==============================] - 25s 264ms/step - loss: 0.1304 - accuracy: 0.5913 - val_loss: 0.0162 - val_accuracy: 0.6631\n",
            "Epoch 2/40\n",
            "90/90 [==============================] - 24s 263ms/step - loss: 0.0177 - accuracy: 0.6445 - val_loss: 0.0162 - val_accuracy: 0.6626\n",
            "Epoch 3/40\n",
            "90/90 [==============================] - 24s 263ms/step - loss: 0.0162 - accuracy: 0.6375 - val_loss: 0.0161 - val_accuracy: 0.6631\n",
            "Epoch 4/40\n",
            "90/90 [==============================] - 24s 263ms/step - loss: 0.0149 - accuracy: 0.6382 - val_loss: 0.0161 - val_accuracy: 0.6631\n",
            "Epoch 5/40\n",
            "90/90 [==============================] - 24s 264ms/step - loss: 0.0163 - accuracy: 0.6421 - val_loss: 0.0161 - val_accuracy: 0.6631\n",
            "Epoch 6/40\n",
            "90/90 [==============================] - 24s 263ms/step - loss: 0.0163 - accuracy: 0.6515 - val_loss: 0.0162 - val_accuracy: 0.6631\n",
            "Epoch 7/40\n",
            "90/90 [==============================] - 24s 263ms/step - loss: 0.0158 - accuracy: 0.6422 - val_loss: 0.0161 - val_accuracy: 0.6536\n",
            "Epoch 8/40\n",
            "90/90 [==============================] - 24s 262ms/step - loss: 0.0159 - accuracy: 0.6405 - val_loss: 0.0160 - val_accuracy: 0.6543\n",
            "Epoch 9/40\n",
            "90/90 [==============================] - 24s 263ms/step - loss: 0.0160 - accuracy: 0.6446 - val_loss: 0.0160 - val_accuracy: 0.6620\n",
            "Epoch 10/40\n",
            "90/90 [==============================] - 24s 263ms/step - loss: 0.0163 - accuracy: 0.6470 - val_loss: 0.0161 - val_accuracy: 0.6631\n",
            "Epoch 11/40\n",
            "90/90 [==============================] - 24s 263ms/step - loss: 0.0155 - accuracy: 0.6501 - val_loss: 0.0159 - val_accuracy: 0.6633\n",
            "Epoch 12/40\n",
            "90/90 [==============================] - 24s 262ms/step - loss: 0.0165 - accuracy: 0.6551 - val_loss: 0.0161 - val_accuracy: 0.6564\n",
            "Epoch 13/40\n",
            "90/90 [==============================] - 24s 262ms/step - loss: 0.0148 - accuracy: 0.6523 - val_loss: 0.0159 - val_accuracy: 0.6637\n",
            "Epoch 14/40\n",
            "90/90 [==============================] - 24s 262ms/step - loss: 0.0155 - accuracy: 0.6481 - val_loss: 0.0158 - val_accuracy: 0.6563\n",
            "Epoch 15/40\n",
            "90/90 [==============================] - 24s 263ms/step - loss: 0.0141 - accuracy: 0.6712 - val_loss: 0.0162 - val_accuracy: 0.6057\n",
            "Epoch 16/40\n",
            "90/90 [==============================] - 24s 264ms/step - loss: 0.0138 - accuracy: 0.6797 - val_loss: 0.0162 - val_accuracy: 0.6465\n",
            "Epoch 17/40\n",
            "90/90 [==============================] - 24s 264ms/step - loss: 0.0145 - accuracy: 0.6883 - val_loss: 0.0162 - val_accuracy: 0.6527\n",
            "Epoch 18/40\n",
            "90/90 [==============================] - 24s 264ms/step - loss: 0.0133 - accuracy: 0.6889 - val_loss: 0.0173 - val_accuracy: 0.5641\n",
            "Epoch 19/40\n",
            "90/90 [==============================] - 24s 264ms/step - loss: 0.0127 - accuracy: 0.6887 - val_loss: 0.0170 - val_accuracy: 0.6326\n",
            "Epoch 20/40\n",
            "90/90 [==============================] - 24s 262ms/step - loss: 0.0118 - accuracy: 0.6937 - val_loss: 0.0167 - val_accuracy: 0.6478\n",
            "Epoch 21/40\n",
            "90/90 [==============================] - 24s 263ms/step - loss: 0.0122 - accuracy: 0.6964 - val_loss: 0.0161 - val_accuracy: 0.6369\n",
            "Epoch 22/40\n",
            "90/90 [==============================] - 24s 263ms/step - loss: 0.0119 - accuracy: 0.7091 - val_loss: 0.0166 - val_accuracy: 0.6352\n",
            "Epoch 23/40\n",
            "90/90 [==============================] - 24s 263ms/step - loss: 0.0115 - accuracy: 0.7031 - val_loss: 0.0162 - val_accuracy: 0.6435\n",
            "Epoch 24/40\n",
            "90/90 [==============================] - 24s 263ms/step - loss: 0.0112 - accuracy: 0.7020 - val_loss: 0.0167 - val_accuracy: 0.6209\n",
            "Epoch 25/40\n",
            "90/90 [==============================] - 24s 263ms/step - loss: 0.0115 - accuracy: 0.7130 - val_loss: 0.0172 - val_accuracy: 0.6185\n",
            "Epoch 26/40\n",
            "90/90 [==============================] - 24s 263ms/step - loss: 0.0110 - accuracy: 0.7121 - val_loss: 0.0189 - val_accuracy: 0.5817\n",
            "Epoch 27/40\n",
            "90/90 [==============================] - 24s 263ms/step - loss: 0.0108 - accuracy: 0.6983 - val_loss: 0.0170 - val_accuracy: 0.6069\n",
            "Epoch 28/40\n",
            "90/90 [==============================] - 24s 263ms/step - loss: 0.0105 - accuracy: 0.7171 - val_loss: 0.0176 - val_accuracy: 0.6041\n",
            "Epoch 29/40\n",
            "90/90 [==============================] - 23s 261ms/step - loss: 0.0096 - accuracy: 0.6988 - val_loss: 0.0168 - val_accuracy: 0.6372\n",
            "Epoch 30/40\n",
            "90/90 [==============================] - 24s 262ms/step - loss: 0.0093 - accuracy: 0.7229 - val_loss: 0.0179 - val_accuracy: 0.5940\n",
            "Epoch 31/40\n",
            "90/90 [==============================] - 24s 263ms/step - loss: 0.0100 - accuracy: 0.7151 - val_loss: 0.0171 - val_accuracy: 0.5999\n",
            "Epoch 32/40\n",
            "90/90 [==============================] - 24s 262ms/step - loss: 0.0094 - accuracy: 0.7222 - val_loss: 0.0173 - val_accuracy: 0.5768\n",
            "Epoch 33/40\n",
            "90/90 [==============================] - 24s 263ms/step - loss: 0.0086 - accuracy: 0.7409 - val_loss: 0.0174 - val_accuracy: 0.6000\n",
            "Epoch 34/40\n",
            "90/90 [==============================] - 24s 264ms/step - loss: 0.0086 - accuracy: 0.7325 - val_loss: 0.0170 - val_accuracy: 0.6356\n",
            "Epoch 35/40\n",
            "90/90 [==============================] - 24s 263ms/step - loss: 0.0085 - accuracy: 0.7328 - val_loss: 0.0169 - val_accuracy: 0.6041\n",
            "Epoch 36/40\n",
            "90/90 [==============================] - 24s 268ms/step - loss: 0.0086 - accuracy: 0.7269 - val_loss: 0.0172 - val_accuracy: 0.6068\n",
            "Epoch 37/40\n",
            "90/90 [==============================] - 24s 263ms/step - loss: 0.0080 - accuracy: 0.7288 - val_loss: 0.0176 - val_accuracy: 0.6399\n",
            "Epoch 38/40\n",
            "90/90 [==============================] - 24s 263ms/step - loss: 0.0082 - accuracy: 0.7498 - val_loss: 0.0178 - val_accuracy: 0.6472\n",
            "Epoch 39/40\n",
            "90/90 [==============================] - 24s 263ms/step - loss: 0.0074 - accuracy: 0.7412 - val_loss: 0.0167 - val_accuracy: 0.6254\n",
            "Epoch 40/40\n",
            "90/90 [==============================] - 24s 263ms/step - loss: 0.0068 - accuracy: 0.7479 - val_loss: 0.0165 - val_accuracy: 0.6384\n"
          ],
          "name": "stdout"
        },
        {
          "output_type": "error",
          "ename": "AttributeError",
          "evalue": "ignored",
          "traceback": [
            "\u001b[0;31m---------------------------------------------------------------------------\u001b[0m",
            "\u001b[0;31mAttributeError\u001b[0m                            Traceback (most recent call last)",
            "\u001b[0;32m<ipython-input-40-8da8f0f63a3d>\u001b[0m in \u001b[0;36m<module>\u001b[0;34m()\u001b[0m\n\u001b[1;32m      4\u001b[0m                        validation_data=(x_test_tensor, y_test_tensor))\n\u001b[1;32m      5\u001b[0m \u001b[0;34m\u001b[0m\u001b[0m\n\u001b[0;32m----> 6\u001b[0;31m \u001b[0mresult_four_but_longer\u001b[0m\u001b[0;34m.\u001b[0m\u001b[0msave_weights\u001b[0m\u001b[0;34m(\u001b[0m\u001b[0;34m\"fourthLongerModel.h5\"\u001b[0m\u001b[0;34m)\u001b[0m\u001b[0;34m\u001b[0m\u001b[0;34m\u001b[0m\u001b[0m\n\u001b[0m\u001b[1;32m      7\u001b[0m \u001b[0;34m\u001b[0m\u001b[0m\n\u001b[1;32m      8\u001b[0m \u001b[0mplt\u001b[0m\u001b[0;34m.\u001b[0m\u001b[0mplot\u001b[0m\u001b[0;34m(\u001b[0m\u001b[0mresult_four\u001b[0m\u001b[0;34m.\u001b[0m\u001b[0mhistory\u001b[0m\u001b[0;34m[\u001b[0m\u001b[0;34m\"accuracy\"\u001b[0m\u001b[0;34m]\u001b[0m\u001b[0;34m,\u001b[0m\u001b[0mlabel\u001b[0m\u001b[0;34m=\u001b[0m\u001b[0;34m\"Czwarty model, ale dłuższy\"\u001b[0m\u001b[0;34m)\u001b[0m\u001b[0;34m\u001b[0m\u001b[0;34m\u001b[0m\u001b[0m\n",
            "\u001b[0;31mAttributeError\u001b[0m: 'History' object has no attribute 'save_weights'"
          ]
        }
      ]
    },
    {
      "cell_type": "markdown",
      "metadata": {
        "id": "L76xEIVF_VIJ"
      },
      "source": [
        "## Podsumowanie"
      ]
    },
    {
      "cell_type": "markdown",
      "metadata": {
        "id": "YvJBOQ4jlxIH"
      },
      "source": [
        "Podsumowanie:\n",
        "0. Niestety z powodów ograniczeń połączenia sieciowego byłem zmuszony przeprowadzać testy dla bardzo niewielkiej próbki 900 zdjęć, o wielkości zaledwie 32x32, a także bardzo niewielkiej długości trwania epok oraz batchach wielkości 10-20.\n",
        "1. Do wytrenowania sieci wykorzystany został zbiór różnych zdjęć o wielkości 32x32, przy podziale 90% zbiór treningowy i 10% walidacyjny. Parametrami pomiarowymi są funkcja staty (Mean Squared Error) oraz accuracy.\n",
        "2. Pierwotnie wykorzystany został optymalizator RMSProp, dający dość wyraźne wyniki.\n",
        "W następnych przypadkach został wykorzystany optymalizator Adam, który dał stosunkowo lepsze wyniki. Stała uczenia stabilnie rosła przez większość epok, mniej widoczne stały się także znaczące zaniki w uczeniu.\n",
        "2. Jako techniki regularyzacji przetestowano:\n",
        "  * warstwy dropoutu, ignorującej wskazany procent podczas treningu, co nie wpłynęło znacząco na same wyniki\n",
        "  * parametr momentum = 0.95, aby poprawnie wytrenować sieć powinno się dążyć do osiągnięcia ekstremów globalnych, wartości te osiąga się zazwyczaj dla zakresu ok. 0.9 - 0.999. W przypadku złego ustawienia trening może zatrzymać się w niepożądanych minimum lokalnym\n",
        "  * w przypadku zwyczajnego zwiększenia liczby epok, mogliśmy się spotkać z poprawą wyników w czasie. Im dłużej trwa uczenie sieci, tym więcej cech jest w stanie odnaleźć, lecz trzeba mieć na uwadze by nie doprowadzić do przeuczenia sieci. (widać stały przyrost)\n",
        "3. Wniosek - sieci jest zdecydowanie daleko do odwzorowania rzeczywistych kolorów, lecz przynajmniej możemy natrafić na stosunkuwo ciekawegą kolorystykę. "
      ]
    },
    {
      "cell_type": "code",
      "metadata": {
        "colab": {
          "base_uri": "https://localhost:8080/",
          "height": 354
        },
        "id": "ai9Dfm8NrOKu",
        "outputId": "08dd2917-f86d-4da6-c826-170176f0f20a"
      },
      "source": [
        "import PIL.Image\n",
        "import IPython.display\n",
        "\n",
        "titanic = PIL.Image.open('jezioro.jpg')\n",
        "titanic = titanic.resize((32, 32))\n",
        "titanic = np.array(titanic)\n",
        "\n",
        "titanic_lab = rgb2lab(titanic / 255.0)\n",
        "titanic_tf = tf.convert_to_tensor(titanic_lab)\n",
        "titanic_tf = reshape_image(titanic_tf)\n",
        "titanic_tf = tf.expand_dims(titanic_tf[:, :, 0:1], axis=0)\n",
        "\n",
        "\n",
        "titanic_out = model_two.predict(titanic_tf)\n",
        "titanic_out = lab2rgb(tf.concat([titanic_tf, titanic_out * 128], 3).numpy()[0])\n",
        "print('In:')\n",
        "IPython.display.display(PIL.Image.fromarray(reshape_image(tf.convert_to_tensor(titanic)).numpy()))\n",
        "print('Out:')\n",
        "IPython.display.display(PIL.Image.fromarray((titanic_out * 255).astype('uint8')))\n",
        "\n",
        "titanic_out = model_three.predict(titanic_tf)\n",
        "titanic_out = lab2rgb(tf.concat([titanic_tf, titanic_out * 128], 3).numpy()[0])\n",
        "print('In:')\n",
        "IPython.display.display(PIL.Image.fromarray(reshape_image(tf.convert_to_tensor(titanic)).numpy()))\n",
        "print('Out:')\n",
        "IPython.display.display(PIL.Image.fromarray((titanic_out * 255).astype('uint8')))\n",
        "\n",
        "titanic_out = model_four.predict(titanic_tf)\n",
        "titanic_out = lab2rgb(tf.concat([titanic_tf, titanic_out * 128], 3).numpy()[0])\n",
        "print('In:')\n",
        "IPython.display.display(PIL.Image.fromarray(reshape_image(tf.convert_to_tensor(titanic)).numpy()))\n",
        "print('Out:')\n",
        "IPython.display.display(PIL.Image.fromarray((titanic_out * 255).astype('uint8')))"
      ],
      "execution_count": null,
      "outputs": [
        {
          "output_type": "stream",
          "text": [
            "In:\n"
          ],
          "name": "stdout"
        },
        {
          "output_type": "display_data",
          "data": {
            "image/png": "[encoded data removed]",
            "text/plain": [
              "<PIL.Image.Image image mode=RGB size=32x32 at 0x7F79B9A7B518>"
            ]
          },
          "metadata": {
            "tags": []
          }
        },
        {
          "output_type": "stream",
          "text": [
            "Out:\n"
          ],
          "name": "stdout"
        },
        {
          "output_type": "display_data",
          "data": {
            "image/png": "[encoded data removed]",
            "text/plain": [
              "<PIL.Image.Image image mode=RGB size=32x32 at 0x7F79B9A7B518>"
            ]
          },
          "metadata": {
            "tags": []
          }
        },
        {
          "output_type": "stream",
          "text": [
            "In:\n"
          ],
          "name": "stdout"
        },
        {
          "output_type": "stream",
          "text": [
            "/usr/local/lib/python3.6/dist-packages/skimage/color/colorconv.py:1068: UserWarning: Color data out of range: Z < 0 in 19 pixels\n",
            "  return xyz2rgb(lab2xyz(lab, illuminant, observer))\n"
          ],
          "name": "stderr"
        },
        {
          "output_type": "display_data",
          "data": {
            "image/png": "[encoded data removed]",
            "text/plain": [
              "<PIL.Image.Image image mode=RGB size=32x32 at 0x7F79B922A400>"
            ]
          },
          "metadata": {
            "tags": []
          }
        },
        {
          "output_type": "stream",
          "text": [
            "Out:\n"
          ],
          "name": "stdout"
        },
        {
          "output_type": "display_data",
          "data": {
            "image/png": "[encoded data removed]",
            "text/plain": [
              "<PIL.Image.Image image mode=RGB size=32x32 at 0x7F79B922A400>"
            ]
          },
          "metadata": {
            "tags": []
          }
        },
        {
          "output_type": "stream",
          "text": [
            "In:\n"
          ],
          "name": "stdout"
        },
        {
          "output_type": "display_data",
          "data": {
            "image/png": "[encoded data removed]",
            "text/plain": [
              "<PIL.Image.Image image mode=RGB size=32x32 at 0x7F79B9A78CF8>"
            ]
          },
          "metadata": {
            "tags": []
          }
        },
        {
          "output_type": "stream",
          "text": [
            "Out:\n"
          ],
          "name": "stdout"
        },
        {
          "output_type": "display_data",
          "data": {
            "image/png": "[encoded data removed]",
            "text/plain": [
              "<PIL.Image.Image image mode=RGB size=32x32 at 0x7F79B9A789E8>"
            ]
          },
          "metadata": {
            "tags": []
          }
        }
      ]
    }
  ]
}