{
  "nbformat": 4,
  "nbformat_minor": 0,
  "metadata": {
    "colab": {
      "name": "1.DecisionTree.ipynb",
      "provenance": [],
      "collapsed_sections": []
    },
    "kernelspec": {
      "name": "python3",
      "display_name": "Python 3"
    }
  },
  "cells": [
    {
      "cell_type": "code",
      "metadata": {
        "id": "zNzB-9Kwz9F5"
      },
      "source": [
        "import numpy as np\n",
        "import csv\n",
        "import pprint\n",
        "\n",
        "PASSENGERID = 0\n",
        "PCLASS = 1\n",
        "NAME = 2\n",
        "SEX = 3\n",
        "AGE = 4\n",
        "SIBSP = 5\n",
        "PARCH = 6\n",
        "SURVIVED = 7"
      ],
      "execution_count": null,
      "outputs": []
    },
    {
      "cell_type": "code",
      "metadata": {
        "id": "m795UQkX44Qn"
      },
      "source": [
        "def read_csv(name):\n",
        "  labels = []\n",
        "  passengers = []\n",
        "  with open(name, newline='') as csvFile:\n",
        "    reader = csv.reader(csvFile, delimiter=',')\n",
        "    for index, row in enumerate(reader):\n",
        "      if index == 0:\n",
        "        labels.append(row)\n",
        "      if index > 0:\n",
        "        passengers.append(row)\n",
        "  return labels, passengers"
      ],
      "execution_count": null,
      "outputs": []
    },
    {
      "cell_type": "code",
      "metadata": {
        "id": "XHQdl1vHZaBr"
      },
      "source": [
        "def simplify(data):\n",
        "  for passenger in data:\n",
        "    if int(passenger[AGE]) <= 20:\n",
        "      passenger[AGE] = 'young'\n",
        "    elif int(passenger[AGE]) <= 40:\n",
        "      passenger[AGE] = 'middle'\n",
        "    else:\n",
        "      passenger[AGE] = 'old' \n",
        "\n",
        "    passenger[PCLASS] += '. class'\n",
        "    passenger[SIBSP] += ' sib'\n",
        "    passenger[PARCH] += ' parch'\n",
        "\n",
        "    if passenger[SURVIVED] == '0':\n",
        "      passenger[SURVIVED] = 'DIED'\n",
        "    else:\n",
        "      passenger[SURVIVED] = 'SURVIVED'"
      ],
      "execution_count": null,
      "outputs": []
    },
    {
      "cell_type": "code",
      "metadata": {
        "id": "QTh-tvchdq4m"
      },
      "source": [
        "labels,data = read_csv('titanic-homework.csv')\n",
        "simplify(data)"
      ],
      "execution_count": null,
      "outputs": []
    },
    {
      "cell_type": "code",
      "metadata": {
        "id": "zYy-VjmfLPUp"
      },
      "source": [
        "def entropy(data):\n",
        "    elements,counts = np.unique(data, return_counts = True)\n",
        "    entropy = - np.sum([(counts[i]/np.sum(counts))*np.log2(counts[i]/np.sum(counts)) for i in range(len(elements))])\n",
        "    return entropy"
      ],
      "execution_count": null,
      "outputs": []
    },
    {
      "cell_type": "code",
      "metadata": {
        "id": "JpG3q2D0hjI-"
      },
      "source": [
        "def conditional_entropy(data, attribute, conditional_attribute):\n",
        "  elements,counts= np.unique([row[attribute] for row in data], return_counts=True)\n",
        "  conditional_entropy = np.sum([(counts[i]/np.sum(counts))*entropy([row[conditional_attribute] for row in data if row[attribute]==elements[i]]) for i in range(len(elements))])\n",
        "  return conditional_entropy"
      ],
      "execution_count": null,
      "outputs": []
    },
    {
      "cell_type": "code",
      "metadata": {
        "id": "uXjSdUsrMAhC"
      },
      "source": [
        "def gain(data, attribute, conditional_attribute):\n",
        "  return entropy([row[conditional_attribute] for row in data]) - conditional_entropy(data, attribute, conditional_attribute)"
      ],
      "execution_count": null,
      "outputs": []
    },
    {
      "cell_type": "code",
      "metadata": {
        "id": "QtLGlOu6ZWHp"
      },
      "source": [
        "def intrinsic_info(data, attribute):\n",
        "  elements,counts = np.unique([row[attribute] for row in data], return_counts = True)\n",
        "  intrinsic = - np.sum([(counts[i]/np.sum(counts))*np.log2(counts[i]/np.sum(counts)) for i in range(len(elements))])\n",
        "  return intrinsic"
      ],
      "execution_count": null,
      "outputs": []
    },
    {
      "cell_type": "code",
      "metadata": {
        "id": "MMwuMXZQE0ND"
      },
      "source": [
        "def gain_ratio(data, attribute, conditional_attribute):\n",
        "  gain_val = gain(data, attribute, conditional_attribute)\n",
        "  intrinsic_val = intrinsic_info(data, attribute)\n",
        "  return gain_val / intrinsic_val"
      ],
      "execution_count": null,
      "outputs": []
    },
    {
      "cell_type": "code",
      "metadata": {
        "id": "o_vW4TuZybqb",
        "colab": {
          "base_uri": "https://localhost:8080/",
          "height": 586
        },
        "outputId": "ca789ff9-d5c3-4b8e-eed1-9e6b55c2a49d"
      },
      "source": [
        "entropy_val = entropy([row[SURVIVED] for row in data])\n",
        "print('Entropy: ', entropy_val)\n",
        "\n",
        "for attribute in [PCLASS, SEX, AGE, SIBSP, PARCH]:\n",
        "    print('=========== ATTRIBUTE', labels[0][attribute], '===========')\n",
        "\n",
        "    cond_entropy = conditional_entropy(data, attribute, SURVIVED)\n",
        "    print('Conditional entropy: ', cond_entropy)\n",
        "\n",
        "    gain_val = gain(data, attribute, SURVIVED)\n",
        "    print('Gain: ', gain_val)\n",
        "\n",
        "    intristic_val = intrinsic_info(data, attribute)\n",
        "    print('Intristic info: ', intristic_val)\n",
        "\n",
        "    gain_ratio_val = gain_ratio(data, attribute, SURVIVED)\n",
        "    print('Gain ratio: ', gain_ratio_val)\n",
        "\n",
        "    print('')"
      ],
      "execution_count": null,
      "outputs": [
        {
          "output_type": "stream",
          "text": [
            "Entropy:  0.9709505944546686\n",
            "=========== ATTRIBUTE Pclass ===========\n",
            "Conditional entropy:  0.8892782366556035\n",
            "Gain:  0.08167235779906512\n",
            "Intristic info:  1.3702289460717927\n",
            "Gain ratio:  0.05960489889898\n",
            "\n",
            "=========== ATTRIBUTE Sex ===========\n",
            "Conditional entropy:  0.5794280059252064\n",
            "Gain:  0.3915225885294622\n",
            "Intristic info:  0.9709505944546686\n",
            "Gain ratio:  0.40323636523376316\n",
            "\n",
            "=========== ATTRIBUTE Age ===========\n",
            "Conditional entropy:  0.9616143464222462\n",
            "Gain:  0.00933624803242239\n",
            "Intristic info:  1.4907269475168268\n",
            "Gain ratio:  0.006262882715023172\n",
            "\n",
            "=========== ATTRIBUTE SibSp ===========\n",
            "Conditional entropy:  0.9302951468759139\n",
            "Gain:  0.04065544757875472\n",
            "Intristic info:  1.619081664980563\n",
            "Gain ratio:  0.025110189595805712\n",
            "\n",
            "=========== ATTRIBUTE Parch ===========\n",
            "Conditional entropy:  0.9543693160498283\n",
            "Gain:  0.01658127840484025\n",
            "Intristic info:  1.1325998252597398\n",
            "Gain ratio:  0.01464001497707953\n",
            "\n"
          ],
          "name": "stdout"
        }
      ]
    },
    {
      "cell_type": "code",
      "metadata": {
        "id": "ehHZc_FFWMUu",
        "colab": {
          "base_uri": "https://localhost:8080/",
          "height": 550
        },
        "outputId": "bfb5271f-143b-4cc3-e218-1fecfcc3af4d"
      },
      "source": [
        "def ID3(data, originaldata, elements, attribute = SURVIVED, parent_leaf = None):\n",
        "    \n",
        "    if len(np.unique([row[attribute] for row in data])) <= 1:\n",
        "        return np.unique([row[attribute] for row in data])[0]\n",
        "    \n",
        "    elif len(data) == 0:\n",
        "        return np.unique([row[attribute] for row in originaldata])[np.argmax(np.unique([row[attribute] for row in originaldata],return_counts=True)[1])]\n",
        "    \n",
        "    elif len(elements) == 0:\n",
        "        return parent_leaf\n",
        "    \n",
        "    else:\n",
        "        parent_leaf = np.unique([row[attribute] for row in data])[np.argmax(np.unique([row[attribute] for row in data],return_counts=True)[1])]\n",
        "        val = [gain_ratio(data, elem, attribute) for elem in elements]\n",
        "        best = elements[np.argmax(val)]\n",
        "        tree = {best:{}}\n",
        "        elements = [i for i in elements if i != best]\n",
        "        \n",
        "        for value in np.unique([row[best] for row in data]):\n",
        "            subdata = [row for row in data if row[best] == value]\n",
        "            subtree = ID3(subdata, originaldata, elements, parent_leaf = parent_leaf)\n",
        "            tree[best][value] = subtree\n",
        "            \n",
        "        return(tree)   \n",
        "\n",
        "vals = [PCLASS, SEX, AGE, SIBSP, PARCH]\n",
        "for i in vals:\n",
        "  print(labels[0][i], ':', i)\n",
        "\n",
        "\n",
        "tree = ID3(data, data, vals)\n",
        "pprint.pprint(tree)"
      ],
      "execution_count": null,
      "outputs": [
        {
          "output_type": "stream",
          "text": [
            "Pclass : 1\n",
            "Sex : 3\n",
            "Age : 4\n",
            "SibSp : 5\n",
            "Parch : 6\n",
            "{3: {'female': {5: {'0 sib': 'SURVIVED',\n",
            "                    '1 sib': {1: {'1. class': 'SURVIVED',\n",
            "                                  '2. class': 'SURVIVED',\n",
            "                                  '3. class': {6: {'0 parch': 'DIED',\n",
            "                                                   '1 parch': 'SURVIVED',\n",
            "                                                   '5 parch': 'SURVIVED'}}}},\n",
            "                    '2 sib': 'DIED',\n",
            "                    '3 sib': {4: {'middle': 'SURVIVED', 'young': 'DIED'}},\n",
            "                    '4 sib': 'SURVIVED',\n",
            "                    '5 sib': 'DIED'}},\n",
            "     'male': {1: {'1. class': {4: {'middle': {5: {'0 sib': 'SURVIVED',\n",
            "                                                  '1 sib': 'DIED'}},\n",
            "                                   'old': 'DIED',\n",
            "                                   'young': {5: {'0 sib': 'SURVIVED',\n",
            "                                                 '3 sib': 'DIED'}}}},\n",
            "                  '2. class': {4: {'middle': 'DIED',\n",
            "                                   'old': 'DIED',\n",
            "                                   'young': 'SURVIVED'}},\n",
            "                  '3. class': {6: {'0 parch': 'DIED',\n",
            "                                   '1 parch': {4: {'middle': 'SURVIVED',\n",
            "                                                   'young': 'DIED'}},\n",
            "                                   '2 parch': 'DIED',\n",
            "                                   '3 parch': 'DIED',\n",
            "                                   '5 parch': 'DIED'}}}}}}\n"
          ],
          "name": "stdout"
        }
      ]
    },
    {
      "cell_type": "code",
      "metadata": {
        "id": "BS7jfIVloqum",
        "colab": {
          "base_uri": "https://localhost:8080/",
          "height": 54
        },
        "outputId": "fd5fa8b9-bc0c-4b66-8c53-6495770ce865"
      },
      "source": [
        "def entropy_xtra(data):\n",
        "    entropy_value = []\n",
        "    elements,counts = np.unique(data, return_counts = True)\n",
        "    print(elements)\n",
        "    entropy_value.append([(counts[i]/np.sum(counts))*np.log2(counts[i]/np.sum(counts)) for i in range(len(elements))])\n",
        "    return entropy_value\n",
        "entropy_xtra([row[AGE] for row in data])"
      ],
      "execution_count": null,
      "outputs": [
        {
          "output_type": "stream",
          "text": [
            "['middle' 'old' 'young']\n"
          ],
          "name": "stdout"
        },
        {
          "output_type": "execute_result",
          "data": {
            "text/plain": [
              "[[-0.5, -0.4728231410691525, -0.5179038064476742]]"
            ]
          },
          "metadata": {
            "tags": []
          },
          "execution_count": 26
        }
      ]
    }
  ]
}